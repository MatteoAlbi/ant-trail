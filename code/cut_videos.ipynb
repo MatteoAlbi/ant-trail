{
 "cells": [
  {
   "cell_type": "code",
   "execution_count": 3,
   "metadata": {},
   "outputs": [],
   "source": [
    "from moviepy.video.io.ffmpeg_tools import ffmpeg_extract_subclip"
   ]
  },
  {
   "cell_type": "code",
   "execution_count": 7,
   "metadata": {},
   "outputs": [
    {
     "name": "stdout",
     "output_type": "stream",
     "text": [
      "40 70\n"
     ]
    }
   ],
   "source": [
    "required_video_files = [\"..\\\\recordings\\\\car1_backup\\\\color.mjpeg\",\n",
    "                        \"..\\\\recordings\\\\car1_backup\\\\left.mjpeg\",\n",
    "                        \"..\\\\recordings\\\\car1_backup\\\\right.mjpeg\"]\n",
    "time = \"40-70\"\n",
    "starttime = int(time.split(\"-\")[0])\n",
    "endtime = int(time.split(\"-\")[1])\n",
    "print(starttime, endtime)"
   ]
  },
  {
   "cell_type": "code",
   "execution_count": 16,
   "metadata": {},
   "outputs": [
    {
     "name": "stdout",
     "output_type": "stream",
     "text": [
      ".\\recordings\\car1_backup\\color.mjpeg color.mjpeg\n",
      "Moviepy - Running:\n",
      ">>> \"+ \" \".join(cmd)\n",
      "Moviepy - Command successful\n",
      ".\\recordings\\car1_backup\\left.mjpeg left.mjpeg\n",
      "Moviepy - Running:\n",
      ">>> \"+ \" \".join(cmd)\n",
      "Moviepy - Command successful\n",
      ".\\recordings\\car1_backup\\right.mjpeg right.mjpeg\n",
      "Moviepy - Running:\n",
      ">>> \"+ \" \".join(cmd)\n",
      "Moviepy - Command successful\n"
     ]
    }
   ],
   "source": [
    "for file in required_video_files:\n",
    "    target_file = file.split(\"\\\\\")[3]\n",
    "    print(file, target_file)\n",
    "    ffmpeg_extract_subclip(file, starttime, endtime, targetname=\".\\\\recordings\\\\car1_cut\\\\\"+target_file)"
   ]
  }
 ],
 "metadata": {
  "kernelspec": {
   "display_name": "Python 3.10.4 64-bit",
   "language": "python",
   "name": "python3"
  },
  "language_info": {
   "codemirror_mode": {
    "name": "ipython",
    "version": 3
   },
   "file_extension": ".py",
   "mimetype": "text/x-python",
   "name": "python",
   "nbconvert_exporter": "python",
   "pygments_lexer": "ipython3",
   "version": "3.10.4"
  },
  "orig_nbformat": 4,
  "vscode": {
   "interpreter": {
    "hash": "26de051ba29f2982a8de78e945f0abaf191376122a1563185a90213a26c5da77"
   }
  }
 },
 "nbformat": 4,
 "nbformat_minor": 2
}
