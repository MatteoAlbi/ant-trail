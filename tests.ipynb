{
 "cells": [
  {
   "cell_type": "code",
   "execution_count": 1,
   "metadata": {},
   "outputs": [
    {
     "name": "stdout",
     "output_type": "stream",
     "text": [
      "[0. 0. 0.]\n"
     ]
    }
   ],
   "source": [
    "import numpy as np\n",
    "\n",
    "v = np.zeros(3)\n",
    "print(v)"
   ]
  },
  {
   "cell_type": "code",
   "execution_count": 10,
   "metadata": {},
   "outputs": [
    {
     "name": "stdout",
     "output_type": "stream",
     "text": [
      "[-1.28571429 -2.57142857 -3.85714286]\n",
      "[-1.28571429 -2.57142857 -3.85714286]\n"
     ]
    }
   ],
   "source": [
    "v1 = np.array([10,20,30],float)\n",
    "v2 = np.array([1,2,3],float)\n",
    "v3 = (v2-v1)/7\n",
    "print(v3)\n",
    "\n",
    "for i in range(3):\n",
    "    round(v3[i],3) \n",
    "    \n",
    "print(v3)"
   ]
  }
 ],
 "metadata": {
  "interpreter": {
   "hash": "d961aabb6c4ec2b91ffb92635a21c6aac8ab666950951648c46beeee9d11fafd"
  },
  "kernelspec": {
   "display_name": "Python 3.9.6 64-bit",
   "language": "python",
   "name": "python3"
  },
  "language_info": {
   "codemirror_mode": {
    "name": "ipython",
    "version": 3
   },
   "file_extension": ".py",
   "mimetype": "text/x-python",
   "name": "python",
   "nbconvert_exporter": "python",
   "pygments_lexer": "ipython3",
   "version": "3.9.6"
  },
  "orig_nbformat": 4
 },
 "nbformat": 4,
 "nbformat_minor": 2
}
